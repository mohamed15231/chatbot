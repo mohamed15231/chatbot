{
 "cells": [
  {
   "cell_type": "code",
   "execution_count": 112,
   "id": "b29b1fc9",
   "metadata": {},
   "outputs": [],
   "source": [
    "from nltk.stem.isri import ISRIStemmer\n",
    "import json\n",
    "import pickle\n",
    "import nltk\n",
    "import numpy as np\n",
    "import random\n",
    "from keras.models import load_model\n"
   ]
  },
  {
   "cell_type": "code",
   "execution_count": 113,
   "id": "34a4ab8f",
   "metadata": {},
   "outputs": [],
   "source": [
    "stem=ISRIStemmer()\n",
    "model=load_model('chatbot.h5')\n",
    "intents=json.loads(open('intentsTwo.json').read())\n",
    "words=pickle.load(open('words.pkl','rb'))\n",
    "classes=pickle.load(open('classes.pkl','rb'))"
   ]
  },
  {
   "cell_type": "code",
   "execution_count": 114,
   "id": "906e48b7",
   "metadata": {},
   "outputs": [
    {
     "name": "stdout",
     "output_type": "stream",
     "text": [
      "1/1 [==============================] - 0s 51ms/step\n",
      "[0.9989893  0.00101071]\n",
      "[0.9989893  0.00101071]\n",
      "[]\n",
      "[{'intent': 'الترحيب', 'probability': '0.9989893'}]\n"
     ]
    },
    {
     "data": {
      "text/plain": [
       "[{'intent': 'الترحيب', 'probability': '0.9989893'}]"
      ]
     },
     "execution_count": 114,
     "metadata": {},
     "output_type": "execute_result"
    }
   ],
   "source": [
    "def clean_up_sentence(sentence):\n",
    "    sentence_words=nltk.word_tokenize(sentence)\n",
    "    sentence_words=[stem.stem(word) for word in sentence_words]\n",
    "    return sentence_words\n",
    "\n",
    "def back_Of_Words(sentence,words):\n",
    "    sentence_words=clean_up_sentence(sentence)\n",
    "    bag=[0]*len(words)\n",
    "    \n",
    "    for s in sentence_words:\n",
    "        for i,w in enumerate(words):\n",
    "            if s==w:\n",
    "                bag[i]=1\n",
    "    \n",
    "    return np.array(bag)\n",
    "\n",
    "\n",
    "\n",
    "def predicte_class(sentence,words,model):\n",
    "    p=back_Of_Words(sentence,words)\n",
    "    result=model.predict(np.array([p]))[0]\n",
    "    print(result)\n",
    "    Error_Threshold=0.25\n",
    "    results=[[i,r] for i,r in enumerate(result) if r>Error_Threshold]\n",
    "    \n",
    "\n",
    "    results.sort(key=lambda x: x[1],reverse=True)\n",
    "    print(result)\n",
    "\n",
    "    return_list=[]\n",
    "    print(return_list)\n",
    "    for r in results:\n",
    "        return_list.append({\"intent\":classes[r[0]],\"probability\":str(r[1])})\n",
    "    print(return_list)\n",
    "\n",
    "    return return_list\n",
    "\n",
    "predicte_class(\"السلام عليكم\",words,model)\n"
   ]
  },
  {
   "cell_type": "code",
   "execution_count": 115,
   "id": "f0934092",
   "metadata": {},
   "outputs": [],
   "source": [
    "def get_Response(ints, intents_json):\n",
    "    tag=ints[0]['intent']\n",
    "    list_of_intents=intents_json['intents']\n",
    "    for i in list_of_intents:\n",
    "        if(i['tag']==tag):\n",
    "            result=random.choice(i['responses'])\n",
    "            break\n",
    "    return result \n"
   ]
  },
  {
   "cell_type": "code",
   "execution_count": 116,
   "id": "1645390f",
   "metadata": {},
   "outputs": [],
   "source": [
    "def chat_bot_response(msg,word,model):\n",
    "    ints=predicte_class(msg,word,model)\n",
    "    res=get_Response(ints,intents)\n",
    "    return res\n"
   ]
  },
  {
   "cell_type": "code",
   "execution_count": 128,
   "id": "a2ec52ef",
   "metadata": {},
   "outputs": [
    {
     "data": {
      "text/plain": [
       "''"
      ]
     },
     "execution_count": 128,
     "metadata": {},
     "output_type": "execute_result"
    }
   ],
   "source": [
    "import tkinter \n",
    "from tkinter import *\n",
    "\n",
    "def send():\n",
    "    msg=EntryBox.get(\"1.0\",'end-1c').strip()\n",
    "    EntryBox.delete(\"0.0\",END)\n",
    "    \n",
    "    if msg != '':\n",
    "        ChatLog.config(state=NORMAL)\n",
    "        ChatLog.insert(END,'you: '+msg+'\\n\\n')\n",
    "        ChatLog.config(foreground='#442265',font=(\"verdana\",12))\n",
    "        \n",
    "        res=chat_bot_response(msg,words,model)\n",
    "        ChatLog.insert(END,'Bot: '+res+'\\n\\n')\n",
    "\n",
    "        ChatLog.config(state=DISABLED)\n",
    "        ChatLog.yview(END)\n",
    "\n",
    "\n",
    "base=Tk()\n",
    "base.title(\"Chat bot\")\n",
    "base.geometry('400x500')\n",
    "base.resizable(width=FALSE,height=FALSE)\n"
   ]
  },
  {
   "cell_type": "code",
   "execution_count": 129,
   "id": "0a4d4971",
   "metadata": {},
   "outputs": [
    {
     "name": "stdout",
     "output_type": "stream",
     "text": [
      "1/1 [==============================] - 0s 16ms/step\n",
      "[0.9989893  0.00101071]\n",
      "[0.9989893  0.00101071]\n",
      "[]\n",
      "[{'intent': 'الترحيب', 'probability': '0.9989893'}]\n",
      "1/1 [==============================] - 0s 16ms/step\n",
      "[0.0012002 0.9987998]\n",
      "[0.0012002 0.9987998]\n",
      "[]\n",
      "[{'intent': 'الوداع', 'probability': '0.9987998'}]\n"
     ]
    }
   ],
   "source": [
    "ChatLog=Text(base,bd=0,bg=\"white\",height=\"8\",width=\"50\",font=\"Arial\")\n",
    "ChatLog.config(state=DISABLED)\n",
    "scrollbar=Scrollbar(base,command=ChatLog.yview)\n",
    "ChatLog['yscrollcommand']=scrollbar.set\n",
    "SendButton=Button(base,font=(\"verdana\",12,'bold'),text=\"Send\",width=\"12\",height=5,bd=0,bg=\"#32de97\",\n",
    "                 \n",
    "                 activebackground=\"#3c9d9b\",fg='#ffffff',command=send\n",
    "                 )\n",
    "\n",
    "EntryBox=Text(base,bd=0,bg=\"white\",width=\"29\",height=\"5\",font=\"Arial\")\n",
    "\n",
    "scrollbar.place(x=375,y=6,height=386)\n",
    "ChatLog.place(x=6,y=6,height=386,width=370)\n",
    "EntryBox.place(x=128,y=401,height=90,width=265)\n",
    "SendButton.place(x=6,y=401,height=90)\n",
    "\n",
    "\n",
    "\n",
    "\n",
    "base.mainloop()"
   ]
  },
  {
   "cell_type": "code",
   "execution_count": null,
   "id": "9d6be677",
   "metadata": {},
   "outputs": [],
   "source": []
  }
 ],
 "metadata": {
  "kernelspec": {
   "display_name": "Python 3 (ipykernel)",
   "language": "python",
   "name": "python3"
  },
  "language_info": {
   "codemirror_mode": {
    "name": "ipython",
    "version": 3
   },
   "file_extension": ".py",
   "mimetype": "text/x-python",
   "name": "python",
   "nbconvert_exporter": "python",
   "pygments_lexer": "ipython3",
   "version": "3.9.12"
  }
 },
 "nbformat": 4,
 "nbformat_minor": 5
}
